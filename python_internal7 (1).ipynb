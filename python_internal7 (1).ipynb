{
 "cells": [
  {
   "cell_type": "code",
   "execution_count": 1,
   "id": "0d26335e-86ca-4d94-8945-87425539d788",
   "metadata": {},
   "outputs": [],
   "source": [
    "import sqlite3 as sq"
   ]
  },
  {
   "cell_type": "code",
   "execution_count": 2,
   "id": "6b1e79b2-1e56-48ef-af57-18a918142e60",
   "metadata": {},
   "outputs": [],
   "source": [
    "con=sq.connect(\"D:/23BCA312/sqlite-tools-win-x64-3460000/python_internal_7.db\")"
   ]
  },
  {
   "cell_type": "code",
   "execution_count": 3,
   "id": "d84f0ce4-447c-48c6-a07e-bd6e3e83a65e",
   "metadata": {},
   "outputs": [],
   "source": [
    "cur=con.cursor()"
   ]
  },
  {
   "cell_type": "code",
   "execution_count": 4,
   "id": "cf27537e-7318-4efa-acda-cfab19b4fc32",
   "metadata": {},
   "outputs": [
    {
     "data": {
      "text/plain": [
       "<sqlite3.Cursor at 0x1d9fcbc09c0>"
      ]
     },
     "execution_count": 4,
     "metadata": {},
     "output_type": "execute_result"
    }
   ],
   "source": [
    "cur.execute(\"\"\"create table if not exists contact(fname,lname,contact int primary key,email,city) \"\"\")"
   ]
  },
  {
   "cell_type": "code",
   "execution_count": 5,
   "id": "5c12870a-6406-4320-9e8c-fd6e3ba6eb6b",
   "metadata": {},
   "outputs": [
    {
     "data": {
      "text/plain": [
       "<sqlite3.Cursor at 0x1d9fcbc09c0>"
      ]
     },
     "execution_count": 5,
     "metadata": {},
     "output_type": "execute_result"
    }
   ],
   "source": [
    "cur.execute(\"\"\"insert into contact values(\"neha\",\"shrivastav\",9755653435,\"nehashriv@gmail.com\",\"valod\"),\n",
    "                (\"kavita\",\"poddar\",9876543456,\"kavita@gmail.com\",\"vyara\"),\n",
    "                (\"varsha\",\"singh\",8976553345,\"varsha@gmail.com\",\"bardoli\"),\n",
    "                (\"priya\",\"singh\",8123456788,\"priya@gmail.com\",\"surat\"),\n",
    "                (\"rani\",\"gupta\",9354236747,\"rani@gmail.com\",\"surat\"),\n",
    "                (\"puja\",\"teli\",8746574564,\"pooja@gmail.com\",\"vyara\"),\n",
    "                (\"trisha\",\"yadav\",9754466456,\"@gmail.com\",\"surat\")\"\"\")"
   ]
  },
  {
   "cell_type": "code",
   "execution_count": 6,
   "id": "8bd50acc-ea36-40b7-8080-827236da3254",
   "metadata": {},
   "outputs": [
    {
     "data": {
      "text/plain": [
       "<sqlite3.Cursor at 0x1d9fcbc09c0>"
      ]
     },
     "execution_count": 6,
     "metadata": {},
     "output_type": "execute_result"
    }
   ],
   "source": [
    "cur.execute(\"\"\"create table if not exists contact_log( operation_name ,\n",
    "    operation_datetime TIMESTAMP,\n",
    "    new_fname,\n",
    "    new_lname ,\n",
    "    new_contact) \"\"\")"
   ]
  },
  {
   "cell_type": "code",
   "execution_count": 7,
   "id": "546b7b11-4130-45f7-98de-757b087f6e49",
   "metadata": {},
   "outputs": [
    {
     "data": {
      "text/plain": [
       "<sqlite3.Cursor at 0x1d9fcbc09c0>"
      ]
     },
     "execution_count": 7,
     "metadata": {},
     "output_type": "execute_result"
    }
   ],
   "source": [
    "cur.execute(\"\"\" create trigger if not exists insert_log \n",
    "                after insert on contact\n",
    "                 for each row\n",
    "                 BEGIN\n",
    "                 insert into contact_log \n",
    "                 values('INSERT',datetime('now'), new.fname, new.lname, new.contact);\n",
    "                 end;\"\"\")"
   ]
  },
  {
   "cell_type": "code",
   "execution_count": 8,
   "id": "d5e41a4c-4c9f-4102-be33-df191404e312",
   "metadata": {},
   "outputs": [
    {
     "data": {
      "text/plain": [
       "<sqlite3.Cursor at 0x1d9fcbc09c0>"
      ]
     },
     "execution_count": 8,
     "metadata": {},
     "output_type": "execute_result"
    }
   ],
   "source": [
    "cur.execute(\"\"\"insert into contact values(\"shreya\",\"poddar\",2276543456,\"kavita@gmail.com\",\"vyara\") \"\"\")"
   ]
  },
  {
   "cell_type": "code",
   "execution_count": 9,
   "id": "c130f2a9-6136-4784-b79d-b2fd4d7f99db",
   "metadata": {},
   "outputs": [
    {
     "data": {
      "text/plain": [
       "<sqlite3.Cursor at 0x1d9fcbc09c0>"
      ]
     },
     "execution_count": 9,
     "metadata": {},
     "output_type": "execute_result"
    }
   ],
   "source": [
    "cur.execute(\"select * from contact_log\")"
   ]
  },
  {
   "cell_type": "code",
   "execution_count": 12,
   "id": "6fabbe32-05cf-40f6-ba95-a2d27b6e2460",
   "metadata": {},
   "outputs": [
    {
     "name": "stdout",
     "output_type": "stream",
     "text": [
      "[('INSERT', '2024-09-20 11:05:07', 'shreya', 'poddar', 2276543456)]\n"
     ]
    }
   ],
   "source": [
    "record=cur.fetchall()\n",
    "print(record)"
   ]
  },
  {
   "cell_type": "code",
   "execution_count": 13,
   "id": "77f4d346-a65c-46c6-b507-3d6b54188c6c",
   "metadata": {},
   "outputs": [
    {
     "data": {
      "text/plain": [
       "<sqlite3.Cursor at 0x1d9fcbc09c0>"
      ]
     },
     "execution_count": 13,
     "metadata": {},
     "output_type": "execute_result"
    }
   ],
   "source": [
    "cur.execute(\"\"\"create table if not exists contact2_log( operation_name ,\n",
    "    operation_datetime TIMESTAMP,\n",
    "    old_fname,\n",
    "    old_lname ,\n",
    "    old_contact) \"\"\")"
   ]
  },
  {
   "cell_type": "code",
   "execution_count": 14,
   "id": "6691877e-6b28-4141-b3f7-cd815cbb8e1d",
   "metadata": {},
   "outputs": [
    {
     "data": {
      "text/plain": [
       "<sqlite3.Cursor at 0x1d9fcbc09c0>"
      ]
     },
     "execution_count": 14,
     "metadata": {},
     "output_type": "execute_result"
    }
   ],
   "source": [
    "cur.execute(\"\"\" create trigger if not exists delete_log \n",
    "                after delete on contact\n",
    "                 for each row\n",
    "                 BEGIN\n",
    "                  insert into contact_log \n",
    "                 values('DELETE', datetime('now'), old.fname, old.lname, old.contact);\n",
    "                 end;\"\"\")"
   ]
  },
  {
   "cell_type": "code",
   "execution_count": 16,
   "id": "1d899e8b-48fa-4add-9a08-2abe1c871220",
   "metadata": {},
   "outputs": [
    {
     "data": {
      "text/plain": [
       "<sqlite3.Cursor at 0x1d9fcbc09c0>"
      ]
     },
     "execution_count": 16,
     "metadata": {},
     "output_type": "execute_result"
    }
   ],
   "source": [
    "cur.execute(\"delete from contact where fname='neha'\")"
   ]
  },
  {
   "cell_type": "code",
   "execution_count": 17,
   "id": "8c756e46-ae96-4d63-b282-aa14cd2d1086",
   "metadata": {},
   "outputs": [
    {
     "data": {
      "text/plain": [
       "<sqlite3.Cursor at 0x1d9fcbc09c0>"
      ]
     },
     "execution_count": 17,
     "metadata": {},
     "output_type": "execute_result"
    }
   ],
   "source": [
    "cur.execute(\"select * from contact2_log\")"
   ]
  },
  {
   "cell_type": "code",
   "execution_count": 18,
   "id": "37c339f3-7543-46d6-ad3d-ee0a9a52e416",
   "metadata": {},
   "outputs": [
    {
     "name": "stdout",
     "output_type": "stream",
     "text": [
      "[]\n"
     ]
    }
   ],
   "source": [
    "record=cur.fetchall()\n",
    "print(record)"
   ]
  },
  {
   "cell_type": "code",
   "execution_count": null,
   "id": "35202f2a-26b6-4357-875a-18a10d7673f9",
   "metadata": {},
   "outputs": [],
   "source": []
  }
 ],
 "metadata": {
  "kernelspec": {
   "display_name": "Python 3 (ipykernel)",
   "language": "python",
   "name": "python3"
  },
  "language_info": {
   "codemirror_mode": {
    "name": "ipython",
    "version": 3
   },
   "file_extension": ".py",
   "mimetype": "text/x-python",
   "name": "python",
   "nbconvert_exporter": "python",
   "pygments_lexer": "ipython3",
   "version": "3.12.4"
  }
 },
 "nbformat": 4,
 "nbformat_minor": 5
}
